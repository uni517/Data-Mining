{
 "cells": [
  {
   "cell_type": "code",
   "execution_count": 1,
   "id": "565f0667",
   "metadata": {},
   "outputs": [],
   "source": [
    "import pandas as pd\n",
    "import matplotlib.pyplot as plt\n",
    "import numpy as np\n",
    "from sklearn.model_selection import train_test_split\n",
    "import seaborn as sns\n",
    "from sklearn import metrics\n",
    "from sklearn.ensemble import RandomForestRegressor\n",
    "from sklearn.datasets import make_regression"
   ]
  },
  {
   "cell_type": "code",
   "execution_count": 2,
   "id": "d5316d1a",
   "metadata": {},
   "outputs": [],
   "source": [
    "dataset = pd.read_csv('C:/Users/liping/OneDrive/文件/學校資料/碩一上/資料探勘/Hw/dataminingHW2/adult.data.csv', na_values = '?', names = ['age', 'workclass', 'fnlwgt', 'education', \n",
    "                                                                                'education-num','marital-status', 'occupation', \n",
    "                                                                                'relationship', 'race', 'sex','capital-gain', \n",
    "                                                                                'capital-loss', 'hours-per-week', 'native-country',\n",
    "                                                                                'income'] )\n",
    "dataset2 = pd.read_csv('C:/Users/liping/OneDrive/文件/學校資料/碩一上/資料探勘/Hw/dataminingHW2/adult.test.csv', na_values = '?', names = ['age', 'workclass', 'fnlwgt', 'education', \n",
    "                                                                                'education-num','marital-status', 'occupation', \n",
    "                                                                                'relationship', 'race', 'sex','capital-gain', \n",
    "                                                                                'capital-loss', 'hours-per-week', 'native-country',\n",
    "                                                                                'income'] )"
   ]
  },
  {
   "cell_type": "code",
   "execution_count": 3,
   "id": "66418dcc",
   "metadata": {},
   "outputs": [],
   "source": [
    "df = dataset\n",
    "df = df.replace('?', np.NaN)\n",
    "df = df.dropna()\n",
    "#df"
   ]
  },
  {
   "cell_type": "code",
   "execution_count": 4,
   "id": "226c3ad8",
   "metadata": {},
   "outputs": [],
   "source": [
    "df2 = dataset2\n",
    "df2 = df2.replace('?', np.NaN)\n",
    "df2 = df2.dropna()\n",
    "\n",
    "#df2"
   ]
  },
  {
   "cell_type": "code",
   "execution_count": 5,
   "id": "71cc580a",
   "metadata": {},
   "outputs": [],
   "source": [
    "#資料轉換(one-hot)\n",
    "from sklearn.preprocessing import LabelEncoder\n",
    "\n",
    "le = LabelEncoder()\n",
    "\n",
    "for col in df[['workclass', 'education', 'marital-status', 'occupation', 'relationship', 'race', 'sex', 'native-country', 'income']]: \n",
    "    df[col] = le.fit_transform(df[col])\n",
    "\n",
    "#df"
   ]
  },
  {
   "cell_type": "code",
   "execution_count": 6,
   "id": "97fb9e90",
   "metadata": {},
   "outputs": [],
   "source": [
    "#資料轉換(one-hot)\n",
    "le2 = LabelEncoder()\n",
    "\n",
    "for col in df2[['workclass', 'education', 'marital-status', 'occupation', 'relationship', 'race', 'sex', 'native-country', 'income']]: \n",
    "    df2[col] = le2.fit_transform(df2[col])\n",
    "\n",
    "#df2"
   ]
  },
  {
   "cell_type": "code",
   "execution_count": 7,
   "id": "cf39c93e",
   "metadata": {},
   "outputs": [],
   "source": [
    "#訓練和測試\n",
    "#XY訓練資料，xy測試資料\n",
    "x_train = df.drop(['hours-per-week'], axis=1) #刪除欄位\n",
    "y_train = df['hours-per-week'] \n",
    "x_test = df2.drop(['hours-per-week'], axis=1)\n",
    "y_test = df2['hours-per-week']"
   ]
  },
  {
   "cell_type": "code",
   "execution_count": 8,
   "id": "cf615aa6",
   "metadata": {
    "scrolled": true
   },
   "outputs": [],
   "source": [
    "#Random forest\n",
    "\n",
    "# 建立RandomForestRegressor模型\n",
    "#n_estimators樹木的數量\n",
    "#model = RandomForestClassifier(n_estimators=1000,n_jobs = -1,random_state =0,)\n",
    "regressorModel = RandomForestRegressor(n_estimators=150,random_state =0)\n",
    "#model.fit(x_train, y_train)\n",
    "regressorModel.fit(x_train, y_train)\n",
    "# 使用訓練資料預測\n",
    "predicted=regressorModel.predict(x_train)"
   ]
  },
  {
   "cell_type": "code",
   "execution_count": 9,
   "id": "f5bd18c6",
   "metadata": {},
   "outputs": [
    {
     "name": "stdout",
     "output_type": "stream",
     "text": [
      "訓練集:  0.8896426633399346\n",
      "測試集:  0.2038493345573794\n"
     ]
    }
   ],
   "source": [
    "# 預測成功的比例\n",
    "print('訓練集: ',regressorModel.score(x_train,y_train))\n",
    "print('測試集: ',regressorModel.score(x_test,y_test))"
   ]
  },
  {
   "cell_type": "code",
   "execution_count": 10,
   "id": "5bb8006f",
   "metadata": {},
   "outputs": [
    {
     "name": "stdout",
     "output_type": "stream",
     "text": [
      "RMSE:4.10\n",
      "MAE:2.83\n",
      "MAPE:0.11 %\n"
     ]
    }
   ],
   "source": [
    "MSE = metrics.mean_squared_error(y_train, predicted)\n",
    "RMSE = metrics.mean_squared_error(y_train, predicted)**0.5\n",
    "MAE = metrics.mean_absolute_error(y_train, predicted)\n",
    "MAPE = metrics.mean_absolute_percentage_error(y_train, predicted)\n",
    "\n",
    "print(\"RMSE:%.2f\" %RMSE)\n",
    "print(\"MAE:%.2f\" %MAE)\n",
    "print(\"MAPE:%.2f\" %MAPE,\"%\")"
   ]
  },
  {
   "cell_type": "code",
   "execution_count": 11,
   "id": "7145473f",
   "metadata": {},
   "outputs": [
    {
     "name": "stdout",
     "output_type": "stream",
     "text": [
      "Feature: age, Score: 0.28\n",
      "Feature: workclass, Score: 0.05\n",
      "Feature: fnlwgt, Score: 0.28\n",
      "Feature: education, Score: 0.05\n",
      "Feature: education-num, Score: 0.06\n",
      "Feature: marital-status, Score: 0.03\n",
      "Feature: occupation, Score: 0.08\n",
      "Feature: relationship, Score: 0.03\n",
      "Feature: race, Score: 0.02\n",
      "Feature: sex, Score: 0.04\n",
      "Feature: capital-gain, Score: 0.02\n",
      "Feature: capital-loss, Score: 0.01\n",
      "Feature: native-country, Score: 0.02\n",
      "Feature: income, Score: 0.02\n"
     ]
    },
    {
     "data": {
      "image/png": "[encoded data removed]",
      "text/plain": [
       "<Figure size 640x480 with 1 Axes>"
      ]
     },
     "metadata": {},
     "output_type": "display_data"
    }
   ],
   "source": [
    "x_labels = ['age','workclass','fnlwgt','education','education-num','marital-status','occupation','relationship','race','sex','capital-gain','capital-loss','native-country','income']\n",
    "regressorImportance = regressorModel.feature_importances_\n",
    "#for i,v in enumerate(regressorImportance):\n",
    "#    print('Feature: %0d, Score: %.2f' % (i,v))\n",
    "\n",
    "for i,v in enumerate(regressorImportance):\n",
    "    print('Feature: %s, Score: %.2f' % (x_labels[i],v))\n",
    "    \n",
    "# plot\n",
    "plt.bar(range(len(regressorModel.feature_importances_)), regressorModel.feature_importances_)\n",
    "x = [0,1,2,3,4,5,6,7,8,9,10,11,12,13]\n",
    "x_labels = ['age','workclass','fnlwgt','education','education-num','marital-status','occupation','relationship','race','sex','capital-gain','capital-loss','native-country','income']\n",
    "plt.title('Random forest\\'s feature importances')\n",
    "plt.xticks(x,x_labels,rotation ='vertical')\n",
    "plt.show()"
   ]
  },
  {
   "cell_type": "code",
   "execution_count": 12,
   "id": "57e23a54",
   "metadata": {},
   "outputs": [],
   "source": [
    "#from sklearn.inspection import permutation_importance\n",
    "#results = permutation_importance(regressorModel, x_train,y_train, n_repeats=30, random_state=0)\n",
    "#importance = results.importances_mean\n",
    "#for i,v in enumerate(importance):\n",
    "#    print('Feature: %0d, Score: %.2f' % (i,v))\n",
    "    \n",
    "# plot\n",
    "#plt.bar(range(len(importance)), importance)\n",
    "#x = [0,1,2,3,4,5,6,7,8,9,10,11,12,13]\n",
    "#x_labels = ['age','workclass','fnlwgt','education','education-num','marital-status','occupation','relationship','race','sex','capital-gain','capital-loss','native-country','income']\n",
    "#plt.xticks(x,x_labels,rotation ='vertical')\n",
    "#plt.show()"
   ]
  },
  {
   "cell_type": "code",
   "execution_count": 13,
   "id": "ec27fbab",
   "metadata": {},
   "outputs": [
    {
     "data": {
      "text/html": [
       "<div>\n",
       "<style scoped>\n",
       "    .dataframe tbody tr th:only-of-type {\n",
       "        vertical-align: middle;\n",
       "    }\n",
       "\n",
       "    .dataframe tbody tr th {\n",
       "        vertical-align: top;\n",
       "    }\n",
       "\n",
       "    .dataframe thead th {\n",
       "        text-align: right;\n",
       "    }\n",
       "</style>\n",
       "<table border=\"1\" class=\"dataframe\">\n",
       "  <thead>\n",
       "    <tr style=\"text-align: right;\">\n",
       "      <th></th>\n",
       "      <th>workclass</th>\n",
       "      <th>education</th>\n",
       "      <th>education-num</th>\n",
       "      <th>marital-status</th>\n",
       "      <th>occupation</th>\n",
       "      <th>relationship</th>\n",
       "      <th>race</th>\n",
       "      <th>sex</th>\n",
       "      <th>capital-gain</th>\n",
       "      <th>capital-loss</th>\n",
       "      <th>native-country</th>\n",
       "      <th>income</th>\n",
       "    </tr>\n",
       "  </thead>\n",
       "  <tbody>\n",
       "    <tr>\n",
       "      <th>0</th>\n",
       "      <td>7</td>\n",
       "      <td>9</td>\n",
       "      <td>13</td>\n",
       "      <td>4</td>\n",
       "      <td>1</td>\n",
       "      <td>1</td>\n",
       "      <td>4</td>\n",
       "      <td>1</td>\n",
       "      <td>2174</td>\n",
       "      <td>0</td>\n",
       "      <td>39</td>\n",
       "      <td>0</td>\n",
       "    </tr>\n",
       "    <tr>\n",
       "      <th>1</th>\n",
       "      <td>6</td>\n",
       "      <td>9</td>\n",
       "      <td>13</td>\n",
       "      <td>2</td>\n",
       "      <td>4</td>\n",
       "      <td>0</td>\n",
       "      <td>4</td>\n",
       "      <td>1</td>\n",
       "      <td>0</td>\n",
       "      <td>0</td>\n",
       "      <td>39</td>\n",
       "      <td>0</td>\n",
       "    </tr>\n",
       "    <tr>\n",
       "      <th>2</th>\n",
       "      <td>4</td>\n",
       "      <td>11</td>\n",
       "      <td>9</td>\n",
       "      <td>0</td>\n",
       "      <td>6</td>\n",
       "      <td>1</td>\n",
       "      <td>4</td>\n",
       "      <td>1</td>\n",
       "      <td>0</td>\n",
       "      <td>0</td>\n",
       "      <td>39</td>\n",
       "      <td>0</td>\n",
       "    </tr>\n",
       "    <tr>\n",
       "      <th>3</th>\n",
       "      <td>4</td>\n",
       "      <td>1</td>\n",
       "      <td>7</td>\n",
       "      <td>2</td>\n",
       "      <td>6</td>\n",
       "      <td>0</td>\n",
       "      <td>2</td>\n",
       "      <td>1</td>\n",
       "      <td>0</td>\n",
       "      <td>0</td>\n",
       "      <td>39</td>\n",
       "      <td>0</td>\n",
       "    </tr>\n",
       "    <tr>\n",
       "      <th>4</th>\n",
       "      <td>4</td>\n",
       "      <td>9</td>\n",
       "      <td>13</td>\n",
       "      <td>2</td>\n",
       "      <td>10</td>\n",
       "      <td>5</td>\n",
       "      <td>2</td>\n",
       "      <td>0</td>\n",
       "      <td>0</td>\n",
       "      <td>0</td>\n",
       "      <td>5</td>\n",
       "      <td>0</td>\n",
       "    </tr>\n",
       "    <tr>\n",
       "      <th>...</th>\n",
       "      <td>...</td>\n",
       "      <td>...</td>\n",
       "      <td>...</td>\n",
       "      <td>...</td>\n",
       "      <td>...</td>\n",
       "      <td>...</td>\n",
       "      <td>...</td>\n",
       "      <td>...</td>\n",
       "      <td>...</td>\n",
       "      <td>...</td>\n",
       "      <td>...</td>\n",
       "      <td>...</td>\n",
       "    </tr>\n",
       "    <tr>\n",
       "      <th>32556</th>\n",
       "      <td>4</td>\n",
       "      <td>7</td>\n",
       "      <td>12</td>\n",
       "      <td>2</td>\n",
       "      <td>13</td>\n",
       "      <td>5</td>\n",
       "      <td>4</td>\n",
       "      <td>0</td>\n",
       "      <td>0</td>\n",
       "      <td>0</td>\n",
       "      <td>39</td>\n",
       "      <td>0</td>\n",
       "    </tr>\n",
       "    <tr>\n",
       "      <th>32557</th>\n",
       "      <td>4</td>\n",
       "      <td>11</td>\n",
       "      <td>9</td>\n",
       "      <td>2</td>\n",
       "      <td>7</td>\n",
       "      <td>0</td>\n",
       "      <td>4</td>\n",
       "      <td>1</td>\n",
       "      <td>0</td>\n",
       "      <td>0</td>\n",
       "      <td>39</td>\n",
       "      <td>1</td>\n",
       "    </tr>\n",
       "    <tr>\n",
       "      <th>32558</th>\n",
       "      <td>4</td>\n",
       "      <td>11</td>\n",
       "      <td>9</td>\n",
       "      <td>6</td>\n",
       "      <td>1</td>\n",
       "      <td>4</td>\n",
       "      <td>4</td>\n",
       "      <td>0</td>\n",
       "      <td>0</td>\n",
       "      <td>0</td>\n",
       "      <td>39</td>\n",
       "      <td>0</td>\n",
       "    </tr>\n",
       "    <tr>\n",
       "      <th>32559</th>\n",
       "      <td>4</td>\n",
       "      <td>11</td>\n",
       "      <td>9</td>\n",
       "      <td>4</td>\n",
       "      <td>1</td>\n",
       "      <td>3</td>\n",
       "      <td>4</td>\n",
       "      <td>1</td>\n",
       "      <td>0</td>\n",
       "      <td>0</td>\n",
       "      <td>39</td>\n",
       "      <td>0</td>\n",
       "    </tr>\n",
       "    <tr>\n",
       "      <th>32560</th>\n",
       "      <td>5</td>\n",
       "      <td>11</td>\n",
       "      <td>9</td>\n",
       "      <td>2</td>\n",
       "      <td>4</td>\n",
       "      <td>5</td>\n",
       "      <td>4</td>\n",
       "      <td>0</td>\n",
       "      <td>15024</td>\n",
       "      <td>0</td>\n",
       "      <td>39</td>\n",
       "      <td>1</td>\n",
       "    </tr>\n",
       "  </tbody>\n",
       "</table>\n",
       "<p>32561 rows × 12 columns</p>\n",
       "</div>"
      ],
      "text/plain": [
       "       workclass  education  education-num  marital-status  occupation  \\\n",
       "0              7          9             13               4           1   \n",
       "1              6          9             13               2           4   \n",
       "2              4         11              9               0           6   \n",
       "3              4          1              7               2           6   \n",
       "4              4          9             13               2          10   \n",
       "...          ...        ...            ...             ...         ...   \n",
       "32556          4          7             12               2          13   \n",
       "32557          4         11              9               2           7   \n",
       "32558          4         11              9               6           1   \n",
       "32559          4         11              9               4           1   \n",
       "32560          5         11              9               2           4   \n",
       "\n",
       "       relationship  race  sex  capital-gain  capital-loss  native-country  \\\n",
       "0                 1     4    1          2174             0              39   \n",
       "1                 0     4    1             0             0              39   \n",
       "2                 1     4    1             0             0              39   \n",
       "3                 0     2    1             0             0              39   \n",
       "4                 5     2    0             0             0               5   \n",
       "...             ...   ...  ...           ...           ...             ...   \n",
       "32556             5     4    0             0             0              39   \n",
       "32557             0     4    1             0             0              39   \n",
       "32558             4     4    0             0             0              39   \n",
       "32559             3     4    1             0             0              39   \n",
       "32560             5     4    0         15024             0              39   \n",
       "\n",
       "       income  \n",
       "0           0  \n",
       "1           0  \n",
       "2           0  \n",
       "3           0  \n",
       "4           0  \n",
       "...       ...  \n",
       "32556       0  \n",
       "32557       1  \n",
       "32558       0  \n",
       "32559       0  \n",
       "32560       1  \n",
       "\n",
       "[32561 rows x 12 columns]"
      ]
     },
     "execution_count": 13,
     "metadata": {},
     "output_type": "execute_result"
    }
   ],
   "source": [
    "#刪除特徵\n",
    "x_train_del = x_train.drop(['age','fnlwgt'], axis=1) \n",
    "x_test_del = x_test.drop(['age','fnlwgt'], axis=1) \n",
    "x_train_del"
   ]
  },
  {
   "cell_type": "code",
   "execution_count": 14,
   "id": "02b2efe2",
   "metadata": {},
   "outputs": [
    {
     "name": "stdout",
     "output_type": "stream",
     "text": [
      "訓練集:  0.5030860707418434\n",
      "測試集:  0.12291281568095713\n"
     ]
    }
   ],
   "source": [
    "#Random forest\n",
    "# 建立RandomForestRegressor模型\n",
    "#n_estimators樹木的數量\n",
    "regressorModel2 = RandomForestRegressor(n_estimators=150,random_state =0)\n",
    "\n",
    "regressorModel2.fit(x_train_del, y_train)\n",
    "# 使用訓練資料預測\n",
    "Delpredicted=regressorModel2.predict(x_train_del)\n",
    "\n",
    "# 預測成功的比例\n",
    "print('訓練集: ',regressorModel2.score(x_train_del,y_train))\n",
    "print('測試集: ',regressorModel2.score(x_test_del,y_test))\n",
    "#from sklearn import metrics\n",
    "#mse = metrics.mean_squared_error(y_train, predicted)\n",
    "#print('MSE score: ', mse)"
   ]
  },
  {
   "cell_type": "code",
   "execution_count": 15,
   "id": "ac6f7054",
   "metadata": {},
   "outputs": [
    {
     "name": "stdout",
     "output_type": "stream",
     "text": [
      "RMSE:8.70\n",
      "MAE:5.77\n",
      "MAPE:0.23 %\n"
     ]
    }
   ],
   "source": [
    "MSE = metrics.mean_squared_error(y_train, Delpredicted)\n",
    "RMSE = metrics.mean_squared_error(y_train, Delpredicted)**0.5\n",
    "MAE = metrics.mean_absolute_error(y_train, Delpredicted)\n",
    "MAPE = metrics.mean_absolute_percentage_error(y_train, Delpredicted)\n",
    "\n",
    "print(\"RMSE:%.2f\" %RMSE)\n",
    "print(\"MAE:%.2f\" %MAE)\n",
    "print(\"MAPE:%.2f\" %MAPE,\"%\")"
   ]
  },
  {
   "cell_type": "code",
   "execution_count": null,
   "id": "3aa8e405",
   "metadata": {},
   "outputs": [],
   "source": []
  }
 ],
 "metadata": {
  "kernelspec": {
   "display_name": "Python 3 (ipykernel)",
   "language": "python",
   "name": "python3"
  },
  "language_info": {
   "codemirror_mode": {
    "name": "ipython",
    "version": 3
   },
   "file_extension": ".py",
   "mimetype": "text/x-python",
   "name": "python",
   "nbconvert_exporter": "python",
   "pygments_lexer": "ipython3",
   "version": "3.9.12"
  }
 },
 "nbformat": 4,
 "nbformat_minor": 5
}
