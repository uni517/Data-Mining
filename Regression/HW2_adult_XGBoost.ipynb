{
 "cells": [
  {
   "cell_type": "code",
   "execution_count": 60,
   "id": "4e47be4f",
   "metadata": {
    "id": "4e47be4f"
   },
   "outputs": [],
   "source": [
    "import math\n",
    "import numpy as np\n",
    "import pandas as pd\n",
    "import matplotlib.pyplot as plt\n",
    "from sklearn.preprocessing import StandardScaler\n",
    "from sklearn.model_selection import train_test_split\n",
    "from sklearn.ensemble import RandomForestRegressor\n",
    "from sklearn import metrics\n",
    "from sklearn.pipeline import make_pipeline\n",
    "from math import sqrt\n",
    "\n"
   ]
  },
  {
   "cell_type": "code",
   "execution_count": 61,
   "id": "87ef6c88",
   "metadata": {},
   "outputs": [],
   "source": [
    "dataset = pd.read_csv('C:/Users/liping/OneDrive/文件/學校資料/碩一上/資料探勘/Hw/dataminingHW2/adult.data.csv', na_values = '?', names = ['age', 'workclass', 'fnlwgt', 'education', \n",
    "                                                                                'education-num','marital-status', 'occupation', \n",
    "                                                                                'relationship', 'race', 'sex','capital-gain', \n",
    "                                                                                'capital-loss', 'hours-per-week', 'native-country',\n",
    "                                                                                'income'] )\n",
    "dataset2 = pd.read_csv('C:/Users/liping/OneDrive/文件/學校資料/碩一上/資料探勘/Hw/dataminingHW2/adult.test.csv', na_values = '?', names = ['age', 'workclass', 'fnlwgt', 'education', \n",
    "                                                                                'education-num','marital-status', 'occupation', \n",
    "                                                                                'relationship', 'race', 'sex','capital-gain', \n",
    "                                                                                'capital-loss', 'hours-per-week', 'native-country',\n",
    "                                                                                'income'] )"
   ]
  },
  {
   "cell_type": "code",
   "execution_count": 62,
   "id": "87b34c44",
   "metadata": {},
   "outputs": [],
   "source": [
    "df = dataset\n",
    "df = df.replace('?', np.NaN)\n",
    "df = df.dropna()\n",
    "#df\n",
    "df2 = dataset2\n",
    "df2 = df2.replace('?', np.NaN)\n",
    "df2 = df2.dropna()\n",
    "#df2"
   ]
  },
  {
   "cell_type": "code",
   "execution_count": 63,
   "id": "caf0ffd0",
   "metadata": {},
   "outputs": [],
   "source": [
    "#資料轉換(one-hot)\n",
    "from sklearn.preprocessing import LabelEncoder\n",
    "le = LabelEncoder()\n",
    "for col in df[['workclass', 'education', 'marital-status', 'occupation', 'relationship', 'race', 'sex', 'native-country', 'income']]: \n",
    "    df[col] = le.fit_transform(df[col])\n",
    "    \n",
    "le2 = LabelEncoder()\n",
    "for col in df2[['workclass', 'education', 'marital-status', 'occupation', 'relationship', 'race', 'sex', 'native-country', 'income']]: \n",
    "    df2[col] = le2.fit_transform(df2[col])\n"
   ]
  },
  {
   "cell_type": "code",
   "execution_count": 64,
   "id": "af060fc4",
   "metadata": {},
   "outputs": [],
   "source": [
    "#訓練和測試\n",
    "#XY訓練資料，xy測試資料\n",
    "X_train = df.drop(['hours-per-week'], axis=1) #刪除欄位\n",
    "y_train = df['hours-per-week'] \n",
    "X_test = df2.drop(['hours-per-week'], axis=1)\n",
    "y_test = df2['hours-per-week']"
   ]
  },
  {
   "cell_type": "code",
   "execution_count": 65,
   "id": "mDT1UU6hQVlC",
   "metadata": {
    "colab": {
     "base_uri": "https://localhost:8080/"
    },
    "id": "mDT1UU6hQVlC",
    "outputId": "d91f7968-95ac-4dd7-d7df-f5084f02dadf"
   },
   "outputs": [
    {
     "data": {
      "text/plain": [
       "10.89958019732914"
      ]
     },
     "execution_count": 65,
     "metadata": {},
     "output_type": "execute_result"
    }
   ],
   "source": [
    "#正規化\n",
    "import xgboost as xgb\n",
    "from sklearn import preprocessing\n",
    "from sklearn.preprocessing import StandardScaler #標準化\n",
    "ss_x = StandardScaler()\n",
    "ss_y = StandardScaler()\n",
    "x_train = ss_x.fit_transform(X_train)\n",
    "x_test = ss_x.fit_transform(X_test)\n",
    "\n",
    "\n",
    "xgboost = xgb.XGBRegressor()\n",
    "xgboost.fit(X_train, y_train)\n",
    "xgb_re= xgboost.predict(X_test)\n",
    "\n",
    "\n",
    "rmse_test_10=sqrt(metrics.mean_squared_error(y_test,xgb_re))\n",
    "rmse_test_10"
   ]
  },
  {
   "cell_type": "code",
   "execution_count": 66,
   "id": "dGEGZXwJSLl_",
   "metadata": {
    "colab": {
     "base_uri": "https://localhost:8080/"
    },
    "id": "dGEGZXwJSLl_",
    "outputId": "4d4d7253-44a7-47df-96ea-92b1f5f21b13"
   },
   "outputs": [
    {
     "name": "stdout",
     "output_type": "stream",
     "text": [
      "RMSE:10.863\n",
      "MAE:7.442\n",
      "MAPE:0.296\n"
     ]
    }
   ],
   "source": [
    "MSE = metrics.mean_squared_error(y_test, xgb_re)\n",
    "#RMSE = metrics.mean_squared_error((y_test, xgb_re)**0.5\n",
    "MAE = metrics.mean_absolute_error(y_test, xgb_re)\n",
    "MAPE = metrics.mean_absolute_percentage_error(y_test, xgb_re)\n",
    "RMSE=int(MSE)**0.5\n",
    "print(\"RMSE:%.3f\" %RMSE)\n",
    "print(\"MAE:%.3f\" %MAE)\n",
    "print(\"MAPE:%.3f\" %MAPE)"
   ]
  },
  {
   "cell_type": "code",
   "execution_count": 67,
   "id": "a46f6c4c",
   "metadata": {},
   "outputs": [
    {
     "name": "stdout",
     "output_type": "stream",
     "text": [
      "Feature: age, Score: 0.12\n",
      "Feature: workclass, Score: 0.06\n",
      "Feature: fnlwgt, Score: 0.03\n",
      "Feature: education, Score: 0.03\n",
      "Feature: education-num, Score: 0.05\n",
      "Feature: marital-status, Score: 0.03\n",
      "Feature: occupation, Score: 0.06\n",
      "Feature: relationship, Score: 0.09\n",
      "Feature: race, Score: 0.03\n",
      "Feature: sex, Score: 0.21\n",
      "Feature: capital-gain, Score: 0.03\n",
      "Feature: capital-loss, Score: 0.03\n",
      "Feature: native-country, Score: 0.03\n",
      "Feature: income, Score: 0.20\n"
     ]
    },
    {
     "data": {
      "image/png": "[encoded data removed]",
      "text/plain": [
       "<Figure size 640x480 with 1 Axes>"
      ]
     },
     "metadata": {},
     "output_type": "display_data"
    }
   ],
   "source": [
    "x_labels = ['age','workclass','fnlwgt','education','education-num','marital-status','occupation','relationship','race','sex','capital-gain','capital-loss','native-country','income']\n",
    "xgbImportance = xgboost.feature_importances_\n",
    "#for i,v in enumerate(regressorImportance):\n",
    "#    print('Feature: %0d, Score: %.2f' % (i,v))\n",
    "\n",
    "for i,v in enumerate(xgbImportance):\n",
    "    print('Feature: %s, Score: %.2f' % (x_labels[i],v))\n",
    "    \n",
    "# plot\n",
    "plt.bar(range(len(xgboost.feature_importances_)), xgboost.feature_importances_)\n",
    "x = [0,1,2,3,4,5,6,7,8,9,10,11,12,13]\n",
    "x_labels = ['age','workclass','fnlwgt','education','education-num','marital-status','occupation','relationship','race','sex','capital-gain','capital-loss','native-country','income']\n",
    "plt.title('xgboost\\'s feature importances')\n",
    "plt.xticks(x,x_labels,rotation ='vertical')\n",
    "plt.show()"
   ]
  },
  {
   "cell_type": "code",
   "execution_count": 69,
   "id": "acd88d54",
   "metadata": {},
   "outputs": [],
   "source": [
    "x_train_DEL= X_train.drop(['sex','income','age'], axis=1)\n",
    "x_test_DEL= X_test.drop(['sex','income','age'], axis=1)\n"
   ]
  },
  {
   "cell_type": "code",
   "execution_count": 70,
   "id": "05b26ff3",
   "metadata": {},
   "outputs": [
    {
     "data": {
      "text/plain": [
       "11.281359757360859"
      ]
     },
     "execution_count": 70,
     "metadata": {},
     "output_type": "execute_result"
    }
   ],
   "source": [
    "#xgboost特徵刪減正規化\n",
    "import xgboost as xgb\n",
    "from sklearn import preprocessing\n",
    "from sklearn.preprocessing import StandardScaler #標準化\n",
    "ss_x = StandardScaler()\n",
    "ss_y = StandardScaler()\n",
    "X_train = ss_x.fit_transform(x_train_DEL)\n",
    "X_test = ss_x.fit_transform(x_test_DEL)\n",
    "\n",
    "\n",
    "xgboost = xgb.XGBRegressor()\n",
    "xgboost.fit(X_train,y_train)\n",
    "xgb_r= xgboost.predict(X_test)\n",
    "\n",
    "\n",
    "rmse_test_10=sqrt(metrics.mean_squared_error(y_test,xgb_r))\n",
    "rmse_test_10"
   ]
  },
  {
   "cell_type": "code",
   "execution_count": 71,
   "id": "fb408190",
   "metadata": {},
   "outputs": [
    {
     "name": "stdout",
     "output_type": "stream",
     "text": [
      "RMSE:11.269\n",
      "MAE:7.692\n",
      "MAPE:0.326\n"
     ]
    }
   ],
   "source": [
    "MSE = metrics.mean_squared_error(y_test, xgb_r)\n",
    "#RMSE = metrics.mean_squared_error((y_test, xgb_re)**0.5\n",
    "MAE = metrics.mean_absolute_error(y_test, xgb_r)\n",
    "MAPE = metrics.mean_absolute_percentage_error(y_test, xgb_r)\n",
    "RMSE=int(MSE)**0.5\n",
    "print(\"RMSE:%.3f\" %RMSE)\n",
    "print(\"MAE:%.3f\" %MAE)\n",
    "print(\"MAPE:%.3f\" %MAPE)\n"
   ]
  },
  {
   "cell_type": "code",
   "execution_count": 48,
   "id": "8b88dd26",
   "metadata": {},
   "outputs": [],
   "source": [
    "# RMSE:11.32\n",
    "# MAE:7.02\n",
    "# MAPE:0.32 %"
   ]
  }
 ],
 "metadata": {
  "colab": {
   "provenance": []
  },
  "kernelspec": {
   "display_name": "Python 3 (ipykernel)",
   "language": "python",
   "name": "python3"
  },
  "language_info": {
   "codemirror_mode": {
    "name": "ipython",
    "version": 3
   },
   "file_extension": ".py",
   "mimetype": "text/x-python",
   "name": "python",
   "nbconvert_exporter": "python",
   "pygments_lexer": "ipython3",
   "version": "3.9.12"
  }
 },
 "nbformat": 4,
 "nbformat_minor": 5
}
