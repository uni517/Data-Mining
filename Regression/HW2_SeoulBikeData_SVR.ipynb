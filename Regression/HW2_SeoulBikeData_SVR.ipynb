{
 "cells": [
  {
   "cell_type": "code",
   "execution_count": 1,
   "id": "4e47be4f",
   "metadata": {
    "id": "4e47be4f"
   },
   "outputs": [],
   "source": [
    "import math\n",
    "import numpy as np\n",
    "import pandas as pd\n",
    "import matplotlib.pyplot as plt\n",
    "from sklearn.preprocessing import StandardScaler\n",
    "from sklearn.model_selection import train_test_split\n",
    "from sklearn import svm\n",
    "from sklearn.ensemble import RandomForestRegressor\n",
    "from sklearn import metrics\n",
    "from sklearn import metrics\n",
    "from sklearn.pipeline import make_pipeline\n",
    "from sklearn.svm import SVR"
   ]
  },
  {
   "cell_type": "code",
   "execution_count": 2,
   "id": "03765151",
   "metadata": {
    "colab": {
     "base_uri": "https://localhost:8080/",
     "height": 488
    },
    "id": "03765151",
    "outputId": "53844f6a-fa14-445b-e824-21f5a287421b"
   },
   "outputs": [
    {
     "data": {
      "text/html": [
       "<div>\n",
       "<style scoped>\n",
       "    .dataframe tbody tr th:only-of-type {\n",
       "        vertical-align: middle;\n",
       "    }\n",
       "\n",
       "    .dataframe tbody tr th {\n",
       "        vertical-align: top;\n",
       "    }\n",
       "\n",
       "    .dataframe thead th {\n",
       "        text-align: right;\n",
       "    }\n",
       "</style>\n",
       "<table border=\"1\" class=\"dataframe\">\n",
       "  <thead>\n",
       "    <tr style=\"text-align: right;\">\n",
       "      <th></th>\n",
       "      <th>Hour</th>\n",
       "      <th>Temperature(°C)</th>\n",
       "      <th>Humidity(%)</th>\n",
       "      <th>Wind speed (m/s)</th>\n",
       "      <th>Visibility (10m)</th>\n",
       "      <th>Dew point temperature(°C)</th>\n",
       "      <th>Solar Radiation (MJ/m2)</th>\n",
       "      <th>Rainfall(mm)</th>\n",
       "      <th>Snowfall (cm)</th>\n",
       "    </tr>\n",
       "  </thead>\n",
       "  <tbody>\n",
       "    <tr>\n",
       "      <th>0</th>\n",
       "      <td>0</td>\n",
       "      <td>-5.2</td>\n",
       "      <td>37</td>\n",
       "      <td>2.2</td>\n",
       "      <td>2000</td>\n",
       "      <td>-17.6</td>\n",
       "      <td>0.0</td>\n",
       "      <td>0.0</td>\n",
       "      <td>0.0</td>\n",
       "    </tr>\n",
       "    <tr>\n",
       "      <th>1</th>\n",
       "      <td>1</td>\n",
       "      <td>-5.5</td>\n",
       "      <td>38</td>\n",
       "      <td>0.8</td>\n",
       "      <td>2000</td>\n",
       "      <td>-17.6</td>\n",
       "      <td>0.0</td>\n",
       "      <td>0.0</td>\n",
       "      <td>0.0</td>\n",
       "    </tr>\n",
       "    <tr>\n",
       "      <th>2</th>\n",
       "      <td>2</td>\n",
       "      <td>-6.0</td>\n",
       "      <td>39</td>\n",
       "      <td>1.0</td>\n",
       "      <td>2000</td>\n",
       "      <td>-17.7</td>\n",
       "      <td>0.0</td>\n",
       "      <td>0.0</td>\n",
       "      <td>0.0</td>\n",
       "    </tr>\n",
       "    <tr>\n",
       "      <th>3</th>\n",
       "      <td>3</td>\n",
       "      <td>-6.2</td>\n",
       "      <td>40</td>\n",
       "      <td>0.9</td>\n",
       "      <td>2000</td>\n",
       "      <td>-17.6</td>\n",
       "      <td>0.0</td>\n",
       "      <td>0.0</td>\n",
       "      <td>0.0</td>\n",
       "    </tr>\n",
       "    <tr>\n",
       "      <th>4</th>\n",
       "      <td>4</td>\n",
       "      <td>-6.0</td>\n",
       "      <td>36</td>\n",
       "      <td>2.3</td>\n",
       "      <td>2000</td>\n",
       "      <td>-18.6</td>\n",
       "      <td>0.0</td>\n",
       "      <td>0.0</td>\n",
       "      <td>0.0</td>\n",
       "    </tr>\n",
       "    <tr>\n",
       "      <th>...</th>\n",
       "      <td>...</td>\n",
       "      <td>...</td>\n",
       "      <td>...</td>\n",
       "      <td>...</td>\n",
       "      <td>...</td>\n",
       "      <td>...</td>\n",
       "      <td>...</td>\n",
       "      <td>...</td>\n",
       "      <td>...</td>\n",
       "    </tr>\n",
       "    <tr>\n",
       "      <th>8755</th>\n",
       "      <td>19</td>\n",
       "      <td>4.2</td>\n",
       "      <td>34</td>\n",
       "      <td>2.6</td>\n",
       "      <td>1894</td>\n",
       "      <td>-10.3</td>\n",
       "      <td>0.0</td>\n",
       "      <td>0.0</td>\n",
       "      <td>0.0</td>\n",
       "    </tr>\n",
       "    <tr>\n",
       "      <th>8756</th>\n",
       "      <td>20</td>\n",
       "      <td>3.4</td>\n",
       "      <td>37</td>\n",
       "      <td>2.3</td>\n",
       "      <td>2000</td>\n",
       "      <td>-9.9</td>\n",
       "      <td>0.0</td>\n",
       "      <td>0.0</td>\n",
       "      <td>0.0</td>\n",
       "    </tr>\n",
       "    <tr>\n",
       "      <th>8757</th>\n",
       "      <td>21</td>\n",
       "      <td>2.6</td>\n",
       "      <td>39</td>\n",
       "      <td>0.3</td>\n",
       "      <td>1968</td>\n",
       "      <td>-9.9</td>\n",
       "      <td>0.0</td>\n",
       "      <td>0.0</td>\n",
       "      <td>0.0</td>\n",
       "    </tr>\n",
       "    <tr>\n",
       "      <th>8758</th>\n",
       "      <td>22</td>\n",
       "      <td>2.1</td>\n",
       "      <td>41</td>\n",
       "      <td>1.0</td>\n",
       "      <td>1859</td>\n",
       "      <td>-9.8</td>\n",
       "      <td>0.0</td>\n",
       "      <td>0.0</td>\n",
       "      <td>0.0</td>\n",
       "    </tr>\n",
       "    <tr>\n",
       "      <th>8759</th>\n",
       "      <td>23</td>\n",
       "      <td>1.9</td>\n",
       "      <td>43</td>\n",
       "      <td>1.3</td>\n",
       "      <td>1909</td>\n",
       "      <td>-9.3</td>\n",
       "      <td>0.0</td>\n",
       "      <td>0.0</td>\n",
       "      <td>0.0</td>\n",
       "    </tr>\n",
       "  </tbody>\n",
       "</table>\n",
       "<p>8760 rows × 9 columns</p>\n",
       "</div>"
      ],
      "text/plain": [
       "      Hour  Temperature(°C)  Humidity(%)  Wind speed (m/s)  Visibility (10m)  \\\n",
       "0        0             -5.2           37               2.2              2000   \n",
       "1        1             -5.5           38               0.8              2000   \n",
       "2        2             -6.0           39               1.0              2000   \n",
       "3        3             -6.2           40               0.9              2000   \n",
       "4        4             -6.0           36               2.3              2000   \n",
       "...    ...              ...          ...               ...               ...   \n",
       "8755    19              4.2           34               2.6              1894   \n",
       "8756    20              3.4           37               2.3              2000   \n",
       "8757    21              2.6           39               0.3              1968   \n",
       "8758    22              2.1           41               1.0              1859   \n",
       "8759    23              1.9           43               1.3              1909   \n",
       "\n",
       "      Dew point temperature(°C)  Solar Radiation (MJ/m2)  Rainfall(mm)  \\\n",
       "0                         -17.6                      0.0           0.0   \n",
       "1                         -17.6                      0.0           0.0   \n",
       "2                         -17.7                      0.0           0.0   \n",
       "3                         -17.6                      0.0           0.0   \n",
       "4                         -18.6                      0.0           0.0   \n",
       "...                         ...                      ...           ...   \n",
       "8755                      -10.3                      0.0           0.0   \n",
       "8756                       -9.9                      0.0           0.0   \n",
       "8757                       -9.9                      0.0           0.0   \n",
       "8758                       -9.8                      0.0           0.0   \n",
       "8759                       -9.3                      0.0           0.0   \n",
       "\n",
       "      Snowfall (cm)  \n",
       "0               0.0  \n",
       "1               0.0  \n",
       "2               0.0  \n",
       "3               0.0  \n",
       "4               0.0  \n",
       "...             ...  \n",
       "8755            0.0  \n",
       "8756            0.0  \n",
       "8757            0.0  \n",
       "8758            0.0  \n",
       "8759            0.0  \n",
       "\n",
       "[8760 rows x 9 columns]"
      ]
     },
     "execution_count": 2,
     "metadata": {},
     "output_type": "execute_result"
    }
   ],
   "source": [
    "#匯入資料\n",
    "\n",
    "import pandas as pdS\n",
    "data = pd.read_csv('C:/Users/liping/OneDrive/文件/學校資料/碩一上/資料探勘/Hw/dataminingHW2/SeoulBikeDataDel.csv', na_values = '?' )\n",
    "data = data.dropna()\n",
    "X = data.drop([\"Rented Bike Count\"], axis=1)\n",
    "y = data[\"Rented Bike Count\"]\n",
    "X_train, X_test, y_train, y_test = train_test_split(X,y, test_size=0.2, random_state=42)\n",
    "X\n",
    "#scaler = StandardScaler()\n",
    "#scaler.fiSt(X)\n",
    "#scaled_features = scaler.transform(X)\n",
    "#X = pd.DataFrame(scaled_features, columns=data.columns[:-1])"
   ]
  },
  {
   "cell_type": "code",
   "execution_count": 3,
   "id": "mDT1UU6hQVlC",
   "metadata": {
    "colab": {
     "base_uri": "https://localhost:8080/"
    },
    "id": "mDT1UU6hQVlC",
    "outputId": "d91f7968-95ac-4dd7-d7df-f5084f02dadf"
   },
   "outputs": [
    {
     "name": "stdout",
     "output_type": "stream",
     "text": [
      "0.5213502760218787\n",
      "0.5000495646734048\n"
     ]
    }
   ],
   "source": [
    "#正規化\n",
    "from sklearn import preprocessing\n",
    "from sklearn.preprocessing import StandardScaler #標準化\n",
    "ss_x = StandardScaler()\n",
    "ss_y = StandardScaler()\n",
    "x_train = ss_x.fit_transform(X_train)\n",
    "x_test = ss_x.fit_transform(X_test)\n",
    "\n",
    "\n",
    "#建立SVR\n",
    "svr_rbf = SVR(C=3, kernel='rbf', gamma='auto')\n",
    "svr_rbf.fit(x_train,y_train)\n",
    "svr_predict=svr_rbf.predict(x_train)\n",
    "print(svr_rbf.score(x_train,y_train))\n",
    "print(svr_rbf.score(x_test,y_test))"
   ]
  },
  {
   "cell_type": "code",
   "execution_count": 4,
   "id": "dGEGZXwJSLl_",
   "metadata": {
    "colab": {
     "base_uri": "https://localhost:8080/"
    },
    "id": "dGEGZXwJSLl_",
    "outputId": "4d4d7253-44a7-47df-96ea-92b1f5f21b13"
   },
   "outputs": [
    {
     "name": "stdout",
     "output_type": "stream",
     "text": [
      "RMSE:446.12\n",
      "MAE:300.57\n",
      "MAPE:116508348062406752.00 %\n"
     ]
    }
   ],
   "source": [
    "MSE = metrics.mean_squared_error(y_train, svr_predict)\n",
    "RMSE = metrics.mean_squared_error(y_train, svr_predict)**0.5\n",
    "MAE = metrics.mean_absolute_error(y_train, svr_predict)\n",
    "MAPE = metrics.mean_absolute_percentage_error(y_train, svr_predict)\n",
    "\n",
    "print(\"RMSE:%.2f\" %RMSE)\n",
    "print(\"MAE:%.2f\" %MAE)\n",
    "print(\"MAPE:%.2f\" %MAPE,\"%\")"
   ]
  },
  {
   "cell_type": "code",
   "execution_count": 5,
   "id": "OVgC9U5F4NMv",
   "metadata": {
    "colab": {
     "base_uri": "https://localhost:8080/"
    },
    "id": "OVgC9U5F4NMv",
    "outputId": "f35a3564-e35a-4b9f-edbe-e94d17534501"
   },
   "outputs": [
    {
     "name": "stdout",
     "output_type": "stream",
     "text": [
      "Feature: 0, Score: 0.19\n",
      "Feature: 1, Score: 0.21\n",
      "Feature: 2, Score: 0.07\n",
      "Feature: 3, Score: 0.01\n",
      "Feature: 4, Score: 0.03\n",
      "Feature: 5, Score: 0.10\n",
      "Feature: 6, Score: 0.02\n",
      "Feature: 7, Score: 0.02\n",
      "Feature: 8, Score: 0.02\n"
     ]
    }
   ],
   "source": [
    "from sklearn.inspection import permutation_importance\n",
    "results = permutation_importance(svr_rbf, x_test, y_test, n_repeats=30, random_state=0)\n",
    "importance = results.importances_mean\n",
    "\n",
    "for i,v in enumerate(importance):\n",
    "    print('Feature: %0d, Score: %.2f' % (i,v))"
   ]
  },
  {
   "cell_type": "code",
   "execution_count": 6,
   "id": "KvUbJAmUhkiz",
   "metadata": {
    "colab": {
     "base_uri": "https://localhost:8080/"
    },
    "id": "KvUbJAmUhkiz",
    "outputId": "42133994-ca7f-4ded-de15-5375047eccec"
   },
   "outputs": [
    {
     "name": "stdout",
     "output_type": "stream",
     "text": [
      "Feature: 0, Score: 0.189040479\n",
      "Feature: 1, Score: 0.208217734\n",
      "Feature: 2, Score: 0.074079561\n",
      "Feature: 3, Score: 0.013133994\n",
      "Feature: 4, Score: 0.029157310\n",
      "Feature: 5, Score: 0.104905249\n",
      "Feature: 6, Score: 0.020344935\n",
      "Feature: 7, Score: 0.020912923\n",
      "Feature: 8, Score: 0.019578430\n"
     ]
    }
   ],
   "source": [
    "for i,v in enumerate(importance):\n",
    "    print('Feature: %0d, Score: %.9f' % (i,v))"
   ]
  },
  {
   "cell_type": "code",
   "execution_count": 7,
   "id": "8S-b1kN_VMGu",
   "metadata": {
    "colab": {
     "base_uri": "https://localhost:8080/",
     "height": 407
    },
    "id": "8S-b1kN_VMGu",
    "outputId": "ebc910a4-7cbd-4e9e-86a6-071936dbab30"
   },
   "outputs": [
    {
     "data": {
      "image/png": "[encoded data removed]",
      "text/plain": [
       "<Figure size 640x480 with 1 Axes>"
      ]
     },
     "metadata": {},
     "output_type": "display_data"
    }
   ],
   "source": [
    "# plot\n",
    "plt.bar(range(len(importance)), importance)\n",
    "x = [0,1,2,3,4,5,6,7,8,]\n",
    "plt.title('SeoulBikeData SVR\\'s feature importances')\n",
    "x_labels = ['Hour','Temperature(°C)','Humidity(%)','Wind speed (m/s)','Visibility (10m)','Dew point temperature(°C)','Solar Radiation (MJ/m2)','Rainfall(mm)','Snowfall (cm)']\n",
    "plt.xticks(x,x_labels,rotation ='vertical')\n",
    "plt.show()"
   ]
  },
  {
   "cell_type": "code",
   "execution_count": 8,
   "id": "2cfdd2c8",
   "metadata": {
    "colab": {
     "base_uri": "https://localhost:8080/",
     "height": 237
    },
    "id": "2cfdd2c8",
    "outputId": "99d43317-8ef3-4d6d-9389-115308473086"
   },
   "outputs": [],
   "source": [
    "#刪除特徵值\n",
    "x_train_DEL= X_train.drop(['Hour','Temperature(°C)'], axis=1)\n",
    "x_test_DEL= X_test.drop(['Hour','Temperature(°C)'], axis=1)"
   ]
  },
  {
   "cell_type": "code",
   "execution_count": 9,
   "id": "a6a269cf",
   "metadata": {},
   "outputs": [],
   "source": [
    "#正規化\n",
    "ss_x = StandardScaler()\n",
    "ss_y = StandardScaler()\n",
    "x_train_DEL_N = ss_x.fit_transform(x_train_DEL)\n",
    "x_test_DEL_N = ss_x.fit_transform(x_test_DEL)"
   ]
  },
  {
   "cell_type": "code",
   "execution_count": 10,
   "id": "e491f323",
   "metadata": {},
   "outputs": [
    {
     "name": "stdout",
     "output_type": "stream",
     "text": [
      "0.3455225471705178\n",
      "0.34127333772881374\n"
     ]
    }
   ],
   "source": [
    "#建立SVR\n",
    "svr2 = SVR(C=3, kernel='rbf', gamma='auto')\n",
    "svr2.fit(x_train_DEL_N,y_train)\n",
    "svr2_predict=svr2.predict(x_train_DEL_N)\n",
    "print(svr2.score(x_train_DEL_N,y_train))\n",
    "print(svr2.score(x_test_DEL_N,y_test))"
   ]
  },
  {
   "cell_type": "code",
   "execution_count": 11,
   "id": "f19fbf3a",
   "metadata": {},
   "outputs": [
    {
     "name": "stdout",
     "output_type": "stream",
     "text": [
      "RMSE:521.67\n",
      "MAE:354.89\n",
      "MAPE:116508348062406752.00 %\n"
     ]
    }
   ],
   "source": [
    "MSE = metrics.mean_squared_error(y_train, svr2_predict)\n",
    "RMSE = metrics.mean_squared_error(y_train, svr2_predict)**0.5\n",
    "MAE = metrics.mean_absolute_error(y_train, svr2_predict)\n",
    "MAPE = metrics.mean_absolute_percentage_error(y_train, svr_predict)\n",
    "\n",
    "print(\"RMSE:%.2f\" %RMSE)\n",
    "print(\"MAE:%.2f\" %MAE)\n",
    "print(\"MAPE:%.2f\" %MAPE,\"%\")"
   ]
  },
  {
   "cell_type": "code",
   "execution_count": null,
   "id": "03800975",
   "metadata": {},
   "outputs": [],
   "source": []
  }
 ],
 "metadata": {
  "colab": {
   "provenance": []
  },
  "kernelspec": {
   "display_name": "Python 3 (ipykernel)",
   "language": "python",
   "name": "python3"
  },
  "language_info": {
   "codemirror_mode": {
    "name": "ipython",
    "version": 3
   },
   "file_extension": ".py",
   "mimetype": "text/x-python",
   "name": "python",
   "nbconvert_exporter": "python",
   "pygments_lexer": "ipython3",
   "version": "3.9.12"
  }
 },
 "nbformat": 4,
 "nbformat_minor": 5
}
