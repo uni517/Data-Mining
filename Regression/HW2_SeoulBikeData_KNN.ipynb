{
 "cells": [
  {
   "cell_type": "code",
   "execution_count": 1,
   "id": "92244077",
   "metadata": {},
   "outputs": [],
   "source": [
    "from sklearn import datasets\n",
    "from sklearn.model_selection import train_test_split\n",
    "import numpy as np\n",
    "import pandas as pd"
   ]
  },
  {
   "cell_type": "code",
   "execution_count": 2,
   "id": "9487366d",
   "metadata": {},
   "outputs": [
    {
     "data": {
      "text/html": [
       "<div>\n",
       "<style scoped>\n",
       "    .dataframe tbody tr th:only-of-type {\n",
       "        vertical-align: middle;\n",
       "    }\n",
       "\n",
       "    .dataframe tbody tr th {\n",
       "        vertical-align: top;\n",
       "    }\n",
       "\n",
       "    .dataframe thead th {\n",
       "        text-align: right;\n",
       "    }\n",
       "</style>\n",
       "<table border=\"1\" class=\"dataframe\">\n",
       "  <thead>\n",
       "    <tr style=\"text-align: right;\">\n",
       "      <th></th>\n",
       "      <th>Rented Bike Count</th>\n",
       "      <th>Hour</th>\n",
       "      <th>Temperature</th>\n",
       "      <th>Humidity</th>\n",
       "      <th>Wind speed</th>\n",
       "      <th>Visibility</th>\n",
       "      <th>Dew point temperature</th>\n",
       "      <th>Solar Radiation</th>\n",
       "      <th>Rainfall</th>\n",
       "      <th>Snowfall</th>\n",
       "    </tr>\n",
       "  </thead>\n",
       "  <tbody>\n",
       "    <tr>\n",
       "      <th>0</th>\n",
       "      <td>254</td>\n",
       "      <td>0</td>\n",
       "      <td>-5.2</td>\n",
       "      <td>37</td>\n",
       "      <td>2.2</td>\n",
       "      <td>2000</td>\n",
       "      <td>-17.6</td>\n",
       "      <td>0.0</td>\n",
       "      <td>0.0</td>\n",
       "      <td>0.0</td>\n",
       "    </tr>\n",
       "    <tr>\n",
       "      <th>1</th>\n",
       "      <td>204</td>\n",
       "      <td>1</td>\n",
       "      <td>-5.5</td>\n",
       "      <td>38</td>\n",
       "      <td>0.8</td>\n",
       "      <td>2000</td>\n",
       "      <td>-17.6</td>\n",
       "      <td>0.0</td>\n",
       "      <td>0.0</td>\n",
       "      <td>0.0</td>\n",
       "    </tr>\n",
       "    <tr>\n",
       "      <th>2</th>\n",
       "      <td>173</td>\n",
       "      <td>2</td>\n",
       "      <td>-6.0</td>\n",
       "      <td>39</td>\n",
       "      <td>1.0</td>\n",
       "      <td>2000</td>\n",
       "      <td>-17.7</td>\n",
       "      <td>0.0</td>\n",
       "      <td>0.0</td>\n",
       "      <td>0.0</td>\n",
       "    </tr>\n",
       "    <tr>\n",
       "      <th>3</th>\n",
       "      <td>107</td>\n",
       "      <td>3</td>\n",
       "      <td>-6.2</td>\n",
       "      <td>40</td>\n",
       "      <td>0.9</td>\n",
       "      <td>2000</td>\n",
       "      <td>-17.6</td>\n",
       "      <td>0.0</td>\n",
       "      <td>0.0</td>\n",
       "      <td>0.0</td>\n",
       "    </tr>\n",
       "    <tr>\n",
       "      <th>4</th>\n",
       "      <td>78</td>\n",
       "      <td>4</td>\n",
       "      <td>-6.0</td>\n",
       "      <td>36</td>\n",
       "      <td>2.3</td>\n",
       "      <td>2000</td>\n",
       "      <td>-18.6</td>\n",
       "      <td>0.0</td>\n",
       "      <td>0.0</td>\n",
       "      <td>0.0</td>\n",
       "    </tr>\n",
       "    <tr>\n",
       "      <th>...</th>\n",
       "      <td>...</td>\n",
       "      <td>...</td>\n",
       "      <td>...</td>\n",
       "      <td>...</td>\n",
       "      <td>...</td>\n",
       "      <td>...</td>\n",
       "      <td>...</td>\n",
       "      <td>...</td>\n",
       "      <td>...</td>\n",
       "      <td>...</td>\n",
       "    </tr>\n",
       "    <tr>\n",
       "      <th>8755</th>\n",
       "      <td>1003</td>\n",
       "      <td>19</td>\n",
       "      <td>4.2</td>\n",
       "      <td>34</td>\n",
       "      <td>2.6</td>\n",
       "      <td>1894</td>\n",
       "      <td>-10.3</td>\n",
       "      <td>0.0</td>\n",
       "      <td>0.0</td>\n",
       "      <td>0.0</td>\n",
       "    </tr>\n",
       "    <tr>\n",
       "      <th>8756</th>\n",
       "      <td>764</td>\n",
       "      <td>20</td>\n",
       "      <td>3.4</td>\n",
       "      <td>37</td>\n",
       "      <td>2.3</td>\n",
       "      <td>2000</td>\n",
       "      <td>-9.9</td>\n",
       "      <td>0.0</td>\n",
       "      <td>0.0</td>\n",
       "      <td>0.0</td>\n",
       "    </tr>\n",
       "    <tr>\n",
       "      <th>8757</th>\n",
       "      <td>694</td>\n",
       "      <td>21</td>\n",
       "      <td>2.6</td>\n",
       "      <td>39</td>\n",
       "      <td>0.3</td>\n",
       "      <td>1968</td>\n",
       "      <td>-9.9</td>\n",
       "      <td>0.0</td>\n",
       "      <td>0.0</td>\n",
       "      <td>0.0</td>\n",
       "    </tr>\n",
       "    <tr>\n",
       "      <th>8758</th>\n",
       "      <td>712</td>\n",
       "      <td>22</td>\n",
       "      <td>2.1</td>\n",
       "      <td>41</td>\n",
       "      <td>1.0</td>\n",
       "      <td>1859</td>\n",
       "      <td>-9.8</td>\n",
       "      <td>0.0</td>\n",
       "      <td>0.0</td>\n",
       "      <td>0.0</td>\n",
       "    </tr>\n",
       "    <tr>\n",
       "      <th>8759</th>\n",
       "      <td>584</td>\n",
       "      <td>23</td>\n",
       "      <td>1.9</td>\n",
       "      <td>43</td>\n",
       "      <td>1.3</td>\n",
       "      <td>1909</td>\n",
       "      <td>-9.3</td>\n",
       "      <td>0.0</td>\n",
       "      <td>0.0</td>\n",
       "      <td>0.0</td>\n",
       "    </tr>\n",
       "  </tbody>\n",
       "</table>\n",
       "<p>8760 rows × 10 columns</p>\n",
       "</div>"
      ],
      "text/plain": [
       "      Rented Bike Count  Hour  Temperature  Humidity  Wind speed  Visibility  \\\n",
       "0                   254     0         -5.2        37         2.2        2000   \n",
       "1                   204     1         -5.5        38         0.8        2000   \n",
       "2                   173     2         -6.0        39         1.0        2000   \n",
       "3                   107     3         -6.2        40         0.9        2000   \n",
       "4                    78     4         -6.0        36         2.3        2000   \n",
       "...                 ...   ...          ...       ...         ...         ...   \n",
       "8755               1003    19          4.2        34         2.6        1894   \n",
       "8756                764    20          3.4        37         2.3        2000   \n",
       "8757                694    21          2.6        39         0.3        1968   \n",
       "8758                712    22          2.1        41         1.0        1859   \n",
       "8759                584    23          1.9        43         1.3        1909   \n",
       "\n",
       "      Dew point temperature  Solar Radiation  Rainfall  Snowfall  \n",
       "0                     -17.6              0.0       0.0       0.0  \n",
       "1                     -17.6              0.0       0.0       0.0  \n",
       "2                     -17.7              0.0       0.0       0.0  \n",
       "3                     -17.6              0.0       0.0       0.0  \n",
       "4                     -18.6              0.0       0.0       0.0  \n",
       "...                     ...              ...       ...       ...  \n",
       "8755                  -10.3              0.0       0.0       0.0  \n",
       "8756                   -9.9              0.0       0.0       0.0  \n",
       "8757                   -9.9              0.0       0.0       0.0  \n",
       "8758                   -9.8              0.0       0.0       0.0  \n",
       "8759                   -9.3              0.0       0.0       0.0  \n",
       "\n",
       "[8760 rows x 10 columns]"
      ]
     },
     "execution_count": 2,
     "metadata": {},
     "output_type": "execute_result"
    }
   ],
   "source": [
    "dataset = pd.read_csv('D:/Datamining/SeoulBikeDataDel.csv', na_values = '?', names = ['Rented Bike Count', 'Hour', 'Temperature', 'Humidity', \n",
    "                                                                                      'Wind speed','Visibility', 'Dew point temperature', \n",
    "                                                                                      'Solar Radiation', 'Rainfall', 'Snowfall'])\n",
    "\n",
    "df = dataset\n",
    "df = df.replace('?', np.NaN)\n",
    "df = df.dropna()\n",
    "df"
   ]
  },
  {
   "cell_type": "code",
   "execution_count": 3,
   "id": "e15cc735",
   "metadata": {},
   "outputs": [],
   "source": [
    "#分割資料集\n",
    "#x_train = df.sample(frac=0.7)\n",
    "#x_test= df[~df.index.isin(x_train.index)]\n",
    "X = df.drop(['Rented Bike Count'], axis=1) #刪除欄位\n",
    "Y = df['Rented Bike Count'] \n",
    "x_train, x_test, y_train, y_test = train_test_split(X, Y, test_size = 0.2, random_state = 42)"
   ]
  },
  {
   "cell_type": "code",
   "execution_count": 4,
   "id": "b9140dac",
   "metadata": {},
   "outputs": [
    {
     "data": {
      "text/plain": [
       "8415     995\n",
       "5049    1195\n",
       "8395    1448\n",
       "1535     178\n",
       "5518    1980\n",
       "        ... \n",
       "5734    1507\n",
       "5191     828\n",
       "5390     999\n",
       "860      322\n",
       "7270    1501\n",
       "Name: Rented Bike Count, Length: 7008, dtype: int64"
      ]
     },
     "execution_count": 4,
     "metadata": {},
     "output_type": "execute_result"
    }
   ],
   "source": [
    "y_train"
   ]
  },
  {
   "cell_type": "code",
   "execution_count": 5,
   "id": "e2cbefa2",
   "metadata": {},
   "outputs": [
    {
     "data": {
      "text/plain": [
       "array([ 883.28571429, 1153.71428571, 1268.85714286, ...,  340.57142857,\n",
       "        239.42857143,  778.28571429])"
      ]
     },
     "execution_count": 5,
     "metadata": {},
     "output_type": "execute_result"
    }
   ],
   "source": [
    "from sklearn.neighbors import KNeighborsRegressor\n",
    "\n",
    "# 建立KNN模型\n",
    "knnModel = KNeighborsRegressor(n_neighbors = 7)\n",
    "# 使用訓練資料訓練模型\n",
    "knnModel.fit(x_train, y_train)\n",
    "# 使用訓練資料預測\n",
    "predicted= knnModel.predict(x_test)\n",
    "predicted"
   ]
  },
  {
   "cell_type": "code",
   "execution_count": 6,
   "id": "52566b2e",
   "metadata": {},
   "outputs": [
    {
     "name": "stdout",
     "output_type": "stream",
     "text": [
      "Feature: 0, Score: 0.25\n",
      "Feature: 1, Score: 0.29\n",
      "Feature: 2, Score: 0.24\n",
      "Feature: 3, Score: 0.01\n",
      "Feature: 4, Score: 0.12\n",
      "Feature: 5, Score: 0.25\n",
      "Feature: 6, Score: 0.00\n",
      "Feature: 7, Score: 0.00\n",
      "Feature: 8, Score: 0.00\n"
     ]
    }
   ],
   "source": [
    "from sklearn.inspection import permutation_importance\n",
    "\n",
    "results = permutation_importance(knnModel, x_test, y_test, n_repeats=30, random_state=0)\n",
    "importance = results.importances_mean\n",
    "for i,v in enumerate(importance):\n",
    "    print('Feature: %0d, Score: %.2f' % (i,v))"
   ]
  },
  {
   "cell_type": "code",
   "execution_count": 9,
   "id": "32cda288",
   "metadata": {},
   "outputs": [
    {
     "name": "stdout",
     "output_type": "stream",
     "text": [
      "最佳K值 {'n_neighbors': 7}\n"
     ]
    }
   ],
   "source": [
    "from sklearn.model_selection import GridSearchCV\n",
    "\n",
    "parameters={'n_neighbors':[1,3,5,7,9,11,13,15,17,19,21,23,25,27,29,31,33,35,37,39,41,43,45,47,49]}\n",
    "kng=KNeighborsRegressor()\n",
    "\n",
    "rgs=GridSearchCV(kng,parameters,cv=10)  #10折\n",
    "rgs.fit(x_train,y_train)\n",
    " \n",
    "print(\"最佳K值\",rgs.best_params_)"
   ]
  },
  {
   "cell_type": "code",
   "execution_count": null,
   "id": "8a23e845",
   "metadata": {},
   "outputs": [],
   "source": [
    "from matplotlib import pyplot\n",
    "\n",
    "pyplot.bar([x for x in range(len(importance))], importance)\n",
    "pyplot.show()\n"
   ]
  },
  {
   "cell_type": "code",
   "execution_count": null,
   "id": "0bcca46e",
   "metadata": {},
   "outputs": [],
   "source": [
    "# plot\n",
    "pyplot.bar(range(len(importance)), importance)\n",
    "x = [0,1,2,3,4,5,6,7,8,]\n",
    "pyplot.title('SeoulBikeData KNN\\'s feature importances')\n",
    "x_labels = ['Hour','Temperature(°C)','Humidity(%)','Wind speed (m/s)','Visibility (10m)','Dew point temperature(°C)','Solar Radiation (MJ/m2)','Rainfall(mm)','Snowfall (cm)']\n",
    "pyplot.xticks(x,x_labels,rotation ='vertical')\n",
    "pyplot.show()"
   ]
  },
  {
   "cell_type": "code",
   "execution_count": null,
   "id": "9114b72e",
   "metadata": {},
   "outputs": [],
   "source": [
    "from math import sqrt\n",
    "from sklearn.metrics import mean_absolute_error\n",
    "from sklearn.metrics import mean_squared_error\n",
    "from sklearn.metrics import mean_absolute_percentage_error\n",
    "\n",
    "print(\"MAE:\", mean_absolute_error(y_test,predicted))\n",
    "print(\"MAPE:\", mean_absolute_percentage_error(y_test,predicted))\n",
    "print(\"RMSE:\", sqrt(mean_squared_error(y_test,predicted)))"
   ]
  },
  {
   "cell_type": "code",
   "execution_count": null,
   "id": "64fd97e4",
   "metadata": {},
   "outputs": [],
   "source": [
    "n=1\n",
    "k_value_range = range(1,30)\n",
    "k_value_scores = []\n",
    "for k in k_value_range:\n",
    "    n=n+1\n",
    "    kng = KNeighborsRegressor(n_neighbors=n)\n",
    "    kng.fit(x_train,y_train)\n",
    "    y_pred = kng.predict(x_test)\n",
    "    score=kng.score(x_test,y_test)\n",
    "    print('n_neighbor值為',n,'的時候score為:%.3f'%(score))   \n",
    "    k_value_scores.append(score)"
   ]
  },
  {
   "cell_type": "code",
   "execution_count": null,
   "id": "6bf14ee5",
   "metadata": {},
   "outputs": [],
   "source": [
    "from matplotlib import pyplot\n",
    "\n",
    "#最佳k值\n",
    "pyplot.plot(k_value_range,k_value_scores, marker = 'o')\n",
    "pyplot.title(\"Best k\")\n",
    "pyplot.xlabel(\"K_socre\")\n",
    "pyplot.ylabel(\"n_neighbor\")\n",
    "pyplot.show()"
   ]
  },
  {
   "cell_type": "code",
   "execution_count": null,
   "id": "ff3f3f51",
   "metadata": {},
   "outputs": [],
   "source": [
    "X_train_del = df.drop(['Rented Bike Count','Humidity'], axis=1) #刪除欄位\n",
    "Y_test_del = df['Rented Bike Count']\n",
    "xtrain, xtest, ytrain, ytest = train_test_split(X_train_del, Y_test_del, test_size = 0.2, random_state = 42)"
   ]
  },
  {
   "cell_type": "code",
   "execution_count": null,
   "id": "75d5ff0d",
   "metadata": {},
   "outputs": [],
   "source": [
    "from sklearn.neighbors import KNeighborsRegressor\n",
    "\n",
    "# 建立KNN模型\n",
    "knnModel = KNeighborsRegressor(n_neighbors = 7)\n",
    "# 使用訓練資料訓練模型\n",
    "knnModel.fit(xtrain, ytrain)\n",
    "# 使用訓練資料預測\n",
    "predicted= knnModel.predict(xtest)\n",
    "predicted"
   ]
  },
  {
   "cell_type": "code",
   "execution_count": null,
   "id": "f9bec50f",
   "metadata": {},
   "outputs": [],
   "source": [
    "from math import sqrt\n",
    "from sklearn.metrics import mean_absolute_error\n",
    "from sklearn.metrics import mean_squared_error\n",
    "from sklearn.metrics import mean_absolute_percentage_error\n",
    "\n",
    "print(\"MAE:\", mean_absolute_error(ytest,predicted))\n",
    "print(\"MAPE:\", mean_absolute_percentage_error(ytest,predicted))\n",
    "print(\"RMSE:\", sqrt(mean_squared_error(ytest,predicted)))"
   ]
  },
  {
   "cell_type": "code",
   "execution_count": null,
   "id": "1818f5a4",
   "metadata": {},
   "outputs": [],
   "source": []
  },
  {
   "cell_type": "code",
   "execution_count": null,
   "id": "6ddcdd5a",
   "metadata": {},
   "outputs": [],
   "source": []
  }
 ],
 "metadata": {
  "kernelspec": {
   "display_name": "Python 3 (ipykernel)",
   "language": "python",
   "name": "python3"
  },
  "language_info": {
   "codemirror_mode": {
    "name": "ipython",
    "version": 3
   },
   "file_extension": ".py",
   "mimetype": "text/x-python",
   "name": "python",
   "nbconvert_exporter": "python",
   "pygments_lexer": "ipython3",
   "version": "3.9.12"
  }
 },
 "nbformat": 4,
 "nbformat_minor": 5
}
